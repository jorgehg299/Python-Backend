{
 "cells": [
  {
   "cell_type": "code",
   "execution_count": 3,
   "id": "2456a941",
   "metadata": {},
   "outputs": [
    {
     "name": "stdout",
     "output_type": "stream",
     "text": [
      "Lista de Reproducción\n",
      "\n",
      "Ingresa la palabra que te gustaría\n",
      "Ejemplo: 'rock', y obtendrás un playlist de canciones o artistas que incluyan la palabra rock\n",
      "Metal\n",
      "<class 'tuple'>\n",
      "('Mental', 'Denzel Curry')\n"
     ]
    }
   ],
   "source": [
    "import requests\n",
    "print(\"Lista de Reproducción\\n\")\n",
    "# Referencia: https://www.deezer.com/en/channels/explore \n",
    "print(\"Ingresa la palabra que te gustaría\") \n",
    "print(\"Ejemplo: 'rock', y obtendrás un playlist de canciones o artistas que incluyan la palabra rock\")\n",
    "word_to_search = input()\n",
    "url = \"https://deezerdevs-deezer.p.rapidapi.com/search\" \n",
    "querystring = {\"q\":word_to_search} \n",
    "headers = {\n",
    "    \"X-RapidAPI-Key\": \"3ed98f551fmshe4e6260228c4eadp13db17jsn8c893e1194da\",\n",
    "    \"X-RapidAPI-Host\": \"deezerdevs-deezer.p.rapidapi.com\" }\n",
    "response = requests.request(\"GET\", url, headers=headers, params=querystring).json() \n",
    "my_list[]"
    "for element in response['data']:\n",
    "    my_list.append([element['title'], element['artist']['name'])\n",
    "  #  print(my_list)\n",
    "my_tuple = tuple(my_list)\n",
    "print(type(my_tuple))\n",
    "print(my_tuple)\n"
   ]
  },
  {
   "cell_type": "code",
   "execution_count": null,
   "id": "aae6ede0",
   "metadata": {},
   "outputs": [],
   "source": []
  }
 ],
 "metadata": {
  "kernelspec": {
   "display_name": "Python 3 (ipykernel)",
   "language": "python",
   "name": "python3"
  },
  "language_info": {
   "codemirror_mode": {
    "name": "ipython",
    "version": 3
   },
   "file_extension": ".py",
   "mimetype": "text/x-python",
   "name": "python",
   "nbconvert_exporter": "python",
   "pygments_lexer": "ipython3",
   "version": "3.10.5"
  }
 },
 "nbformat": 4,
 "nbformat_minor": 5
}
