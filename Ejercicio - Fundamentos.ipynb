{
 "cells": [
  {
   "cell_type": "markdown",
   "id": "723220fa",
   "metadata": {},
   "source": [
    "## Pide un Integer al usuario"
   ]
  },
  {
   "cell_type": "code",
   "execution_count": 12,
   "id": "86434e6a",
   "metadata": {
    "scrolled": true
   },
   "outputs": [
    {
     "name": "stdout",
     "output_type": "stream",
     "text": [
      "Inserta un dato tipo integer: 5\n",
      "5\n",
      "<class 'int'>\n"
     ]
    }
   ],
   "source": [
    "\n",
    "my_it = int(input(\"Inserta un dato tipo integer: \"))\n",
    "print(my_it)\n",
    "print(type(my_it))"
   ]
  },
  {
   "cell_type": "markdown",
   "id": "e5152bd3",
   "metadata": {},
   "source": [
    "## Pide un Float al usuario"
   ]
  },
  {
   "cell_type": "code",
   "execution_count": 13,
   "id": "4c21c7bf",
   "metadata": {},
   "outputs": [
    {
     "name": "stdout",
     "output_type": "stream",
     "text": [
      "Inserta un dato tipo float: 5\n",
      "5.0\n",
      "<class 'float'>\n"
     ]
    }
   ],
   "source": [
    "my_flt = float(input(\"Inserta un dato tipo float: \"))\n",
    "print(my_flt)\n",
    "print(type(my_flt))"
   ]
  },
  {
   "cell_type": "markdown",
   "id": "a8568c26",
   "metadata": {},
   "source": [
    "## Pide un String al usuario"
   ]
  },
  {
   "cell_type": "code",
   "execution_count": 14,
   "id": "6df0e452",
   "metadata": {},
   "outputs": [
    {
     "name": "stdout",
     "output_type": "stream",
     "text": [
      "Inserta un dato tipo String: Hola\n",
      "Hola\n",
      "<class 'str'>\n"
     ]
    }
   ],
   "source": [
    "my_str = str(input(\"Inserta un dato tipo String: \"))\n",
    "print(my_str)\n",
    "print(type(my_str))"
   ]
  },
  {
   "cell_type": "code",
   "execution_count": null,
   "id": "99c3e2ff",
   "metadata": {},
   "outputs": [],
   "source": []
  }
 ],
 "metadata": {
  "kernelspec": {
   "display_name": "Python 3 (ipykernel)",
   "language": "python",
   "name": "python3"
  },
  "language_info": {
   "codemirror_mode": {
    "name": "ipython",
    "version": 3
   },
   "file_extension": ".py",
   "mimetype": "text/x-python",
   "name": "python",
   "nbconvert_exporter": "python",
   "pygments_lexer": "ipython3",
   "version": "3.10.5"
  }
 },
 "nbformat": 4,
 "nbformat_minor": 5
}
