{
 "cells": [
  {
   "cell_type": "markdown",
   "id": "ad322154",
   "metadata": {},
   "source": [
    "### Diferentes formas de crear listas"
   ]
  },
  {
   "cell_type": "code",
   "execution_count": 1,
   "id": "66092707",
   "metadata": {},
   "outputs": [
    {
     "name": "stdout",
     "output_type": "stream",
     "text": [
      "[3, 3, 3, 3, 3]\n"
     ]
    }
   ],
   "source": [
    "my_list = [3]*5\n",
    "print(my_list)"
   ]
  },
  {
   "cell_type": "code",
   "execution_count": 2,
   "id": "62175ea5",
   "metadata": {},
   "outputs": [
    {
     "name": "stdout",
     "output_type": "stream",
     "text": [
      "[1, 2, 3, 4, 5]\n"
     ]
    }
   ],
   "source": [
    "my_list = [1,2,3,4,5]\n",
    "print(my_list)"
   ]
  },
  {
   "cell_type": "code",
   "execution_count": 3,
   "id": "ef16c0cb",
   "metadata": {},
   "outputs": [
    {
     "name": "stdout",
     "output_type": "stream",
     "text": [
      "[0, 1, 2, 3, 4, 5, 6, 7, 8, 9]\n"
     ]
    }
   ],
   "source": [
    "my_list = []\n",
    "for number in range(10):\n",
    "    my_list.append(number)\n",
    "print(my_list)"
   ]
  },
  {
   "cell_type": "code",
   "execution_count": 4,
   "id": "8c19a812",
   "metadata": {},
   "outputs": [
    {
     "name": "stdout",
     "output_type": "stream",
     "text": [
      "[0, 1, 2, 3, 4, 5, 6, 7, 8, 9]\n"
     ]
    }
   ],
   "source": [
    "my_list = []\n",
    "for number in range(10):\n",
    "    my_list+=[number]\n",
    "print(my_list)"
   ]
  },
  {
   "cell_type": "code",
   "execution_count": 5,
   "id": "78e103d9",
   "metadata": {},
   "outputs": [
    {
     "name": "stdout",
     "output_type": "stream",
     "text": [
      "[0, 1, 2, 3, 4, 5, 6, 7, 8, 9, 10, 11, 12, 13, 14]\n"
     ]
    }
   ],
   "source": [
    "my_list = [number for number in range(15)]\n",
    "print(my_list)"
   ]
  },
  {
   "cell_type": "markdown",
   "id": "b646a708",
   "metadata": {},
   "source": [
    "## Obtener sublistas"
   ]
  },
  {
   "cell_type": "code",
   "execution_count": 12,
   "id": "833cae04",
   "metadata": {},
   "outputs": [
    {
     "name": "stdout",
     "output_type": "stream",
     "text": [
      "[5, 6, 7, 8, 9, 10, 11, 12, 13, 14, 15, 16, 17, 18]\n"
     ]
    }
   ],
   "source": [
    "my_list = [number for number in range(5,19)]\n",
    "print(my_list)"
   ]
  },
  {
   "cell_type": "code",
   "execution_count": 9,
   "id": "0bf824c9",
   "metadata": {},
   "outputs": [
    {
     "name": "stdout",
     "output_type": "stream",
     "text": [
      "[5, 6, 7, 8]\n"
     ]
    }
   ],
   "source": [
    "my_sublist = my_list[:4]\n",
    "print(my_sublist)"
   ]
  },
  {
   "cell_type": "code",
   "execution_count": 10,
   "id": "8a805147",
   "metadata": {},
   "outputs": [
    {
     "name": "stdout",
     "output_type": "stream",
     "text": [
      "[8, 9, 10, 11]\n"
     ]
    }
   ],
   "source": [
    "my_sublist = my_list[3:7]\n",
    "print(my_sublist)"
   ]
  },
  {
   "cell_type": "code",
   "execution_count": 13,
   "id": "8787fea2",
   "metadata": {},
   "outputs": [
    {
     "name": "stdout",
     "output_type": "stream",
     "text": [
      "[15, 16, 17, 18]\n"
     ]
    }
   ],
   "source": [
    "my_sublist = my_list[10:]\n",
    "print(my_sublist)"
   ]
  },
  {
   "cell_type": "code",
   "execution_count": 14,
   "id": "aaa89ce9",
   "metadata": {},
   "outputs": [
    {
     "name": "stdout",
     "output_type": "stream",
     "text": [
      "[]\n"
     ]
    }
   ],
   "source": [
    "my_sublist = my_list[500:]\n",
    "print(my_sublist)"
   ]
  },
  {
   "cell_type": "code",
   "execution_count": 15,
   "id": "7de4907f",
   "metadata": {},
   "outputs": [
    {
     "data": {
      "text/plain": [
       "14"
      ]
     },
     "execution_count": 15,
     "metadata": {},
     "output_type": "execute_result"
    }
   ],
   "source": [
    "len(my_list)"
   ]
  },
  {
   "cell_type": "markdown",
   "id": "57cdd4db",
   "metadata": {},
   "source": [
    "### Creacion de listas usando range y numpy"
   ]
  },
  {
   "cell_type": "code",
   "execution_count": 17,
   "id": "3183c0b4",
   "metadata": {},
   "outputs": [
    {
     "name": "stdout",
     "output_type": "stream",
     "text": [
      "[1, 2, 3, 4]\n"
     ]
    }
   ],
   "source": [
    "#range(inicio, fin, paso)\n",
    "my_list = [*range(1,5,1)]\n",
    "print(my_list)           "
   ]
  },
  {
   "cell_type": "code",
   "execution_count": 18,
   "id": "0129772f",
   "metadata": {},
   "outputs": [
    {
     "name": "stdout",
     "output_type": "stream",
     "text": [
      "[1, 5, 9, 13, 17]\n"
     ]
    }
   ],
   "source": [
    "#range(inicio, fin, paso)\n",
    "my_list = [*range(1,20,4)]\n",
    "print(my_list)  "
   ]
  },
  {
   "cell_type": "code",
   "execution_count": 20,
   "id": "f9e96f63",
   "metadata": {},
   "outputs": [
    {
     "name": "stdout",
     "output_type": "stream",
     "text": [
      "[1, 5, 9, 13, 17]\n"
     ]
    }
   ],
   "source": [
    "import numpy as np\n",
    "my_list = np.arange(1,20,4).tolist()\n",
    "print(my_list)"
   ]
  },
  {
   "cell_type": "markdown",
   "id": "7dc97a3c",
   "metadata": {},
   "source": [
    "### Listas Anidadas"
   ]
  },
  {
   "cell_type": "code",
   "execution_count": 23,
   "id": "b829e03b",
   "metadata": {},
   "outputs": [
    {
     "name": "stdout",
     "output_type": "stream",
     "text": [
      "[[1, 2, 5], [2, 4, 6]]\n",
      "[2, 4, 6]\n",
      "6\n"
     ]
    }
   ],
   "source": [
    "my_list = [[1,2,5],[2,4,6]]\n",
    "print(my_list)\n",
    "print(my_list[1])\n",
    "print(my_list[1][2])"
   ]
  },
  {
   "cell_type": "markdown",
   "id": "14b58754",
   "metadata": {},
   "source": [
    "### Ordenando Listas"
   ]
  },
  {
   "cell_type": "code",
   "execution_count": 25,
   "id": "1c2fd23e",
   "metadata": {},
   "outputs": [
    {
     "name": "stdout",
     "output_type": "stream",
     "text": [
      "[5, 3, 1, 15, 2, 20]\n",
      "[1, 2, 3, 5, 15, 20]\n"
     ]
    }
   ],
   "source": [
    "my_list = [5,3,1,15,2,20]\n",
    "print(my_list)\n",
    "my_list.sort()\n",
    "print(my_list)"
   ]
  },
  {
   "cell_type": "code",
   "execution_count": 27,
   "id": "e2e1cb86",
   "metadata": {},
   "outputs": [
    {
     "name": "stdout",
     "output_type": "stream",
     "text": [
      "[5, 3, 1, 15, 2, 20]\n",
      "[20, 15, 5, 3, 2, 1]\n"
     ]
    }
   ],
   "source": [
    "my_list = [5,3,1,15,2,20]\n",
    "print(my_list)\n",
    "my_list.sort(reverse=True)\n",
    "print(my_list)"
   ]
  },
  {
   "cell_type": "code",
   "execution_count": 28,
   "id": "a5c45bea",
   "metadata": {},
   "outputs": [
    {
     "name": "stdout",
     "output_type": "stream",
     "text": [
      "['caballo', 'abeja', 'jirafa', 'ballena']\n",
      "['abeja', 'ballena', 'caballo', 'jirafa']\n"
     ]
    }
   ],
   "source": [
    "my_list = [\"caballo\", \"abeja\", \"jirafa\", \"ballena\"]\n",
    "print(my_list)\n",
    "my_list.sort()\n",
    "print(my_list)"
   ]
  },
  {
   "cell_type": "code",
   "execution_count": 29,
   "id": "c9679de4",
   "metadata": {},
   "outputs": [
    {
     "name": "stdout",
     "output_type": "stream",
     "text": [
      "['caballo', 'abeja', 'jirafa', 'ballena']\n",
      "['jirafa', 'caballo', 'ballena', 'abeja']\n"
     ]
    }
   ],
   "source": [
    "my_list = [\"caballo\", \"abeja\", \"jirafa\", \"ballena\"]\n",
    "print(my_list)\n",
    "my_list.sort(reverse=True)\n",
    "print(my_list)"
   ]
  },
  {
   "cell_type": "markdown",
   "id": "f95a80a0",
   "metadata": {},
   "source": [
    "### Conversion de Listas"
   ]
  },
  {
   "cell_type": "markdown",
   "id": "9649480d",
   "metadata": {},
   "source": [
    "### Cadenas a Listas"
   ]
  },
  {
   "cell_type": "code",
   "execution_count": 30,
   "id": "76bb536a",
   "metadata": {},
   "outputs": [
    {
     "name": "stdout",
     "output_type": "stream",
     "text": [
      "Curso de Backend Python\n",
      "['Curso', 'de', 'Backend', 'Python']\n"
     ]
    }
   ],
   "source": [
    "# Separar palabras\n",
    "my_string = \"Curso de Backend Python\"\n",
    "my_list = my_string.split()\n",
    "print(my_string)\n",
    "print(my_list)"
   ]
  },
  {
   "cell_type": "code",
   "execution_count": 31,
   "id": "39a2240a",
   "metadata": {},
   "outputs": [
    {
     "name": "stdout",
     "output_type": "stream",
     "text": [
      "Curso de Backend Python\n",
      "['C', 'u', 'r', 's', 'o', ' ', 'd', 'e', ' ', 'B', 'a', 'c', 'k', 'e', 'n', 'd', ' ', 'P', 'y', 't', 'h', 'o', 'n']\n"
     ]
    }
   ],
   "source": [
    "# Separar caracteress\n",
    "my_string = \"Curso de Backend Python\"\n",
    "my_list = list(my_string)\n",
    "print(my_string)\n",
    "print(my_list)"
   ]
  },
  {
   "cell_type": "code",
   "execution_count": 33,
   "id": "5c6e13aa",
   "metadata": {},
   "outputs": [
    {
     "name": "stdout",
     "output_type": "stream",
     "text": [
      "Curso de Backend Python\n",
      "[['C'], ['u'], ['r'], ['s'], ['o'], [' '], ['d'], ['e'], [' '], ['B'], ['a'], ['c'], ['k'], ['e'], ['n'], ['d'], [' '], ['P'], ['y'], ['t'], ['h'], ['o'], ['n']]\n"
     ]
    }
   ],
   "source": [
    "# Separar caracteress\n",
    "my_string = \"Curso de Backend Python\"\n",
    "my_list = list(map(list, my_string))\n",
    "print(my_string)\n",
    "print(my_list)"
   ]
  },
  {
   "cell_type": "markdown",
   "id": "fcd7f191",
   "metadata": {},
   "source": [
    "### Listas a Cadenas"
   ]
  },
  {
   "cell_type": "code",
   "execution_count": 34,
   "id": "baf9ede9",
   "metadata": {},
   "outputs": [
    {
     "name": "stdout",
     "output_type": "stream",
     "text": [
      "Curso de Backend Python\n",
      "['Curso', 'de', 'Backend', 'Python']\n"
     ]
    }
   ],
   "source": [
    "# usando espacios entre palabras\n",
    "my_list =['Curso', 'de', 'Backend', 'Python']\n",
    "my_string = \" \".join(my_list)\n",
    "print(my_string)\n",
    "print(my_list)"
   ]
  },
  {
   "cell_type": "code",
   "execution_count": 35,
   "id": "fec4d768",
   "metadata": {},
   "outputs": [
    {
     "name": "stdout",
     "output_type": "stream",
     "text": [
      "Curso de Backend Python\n",
      "['C', 'u', 'r', 's', 'o', ' ', 'd', 'e', ' ', 'B', 'a', 'c', 'k', 'e', 'n', 'd', ' ', 'P', 'y', 't', 'h', 'o', 'n']\n"
     ]
    }
   ],
   "source": [
    "# usando espacios entre caracteres\n",
    "my_list =['C', 'u', 'r', 's', 'o', ' ', 'd', 'e', ' ', 'B', 'a', 'c', 'k', 'e', 'n', 'd', ' ', 'P', 'y', 't', 'h', 'o', 'n']\n",
    "my_string = \"\".join(my_list)\n",
    "print(my_string)\n",
    "print(my_list)"
   ]
  },
  {
   "cell_type": "code",
   "execution_count": 36,
   "id": "771de56e",
   "metadata": {},
   "outputs": [
    {
     "name": "stdout",
     "output_type": "stream",
     "text": [
      "Curso de Backend Python\n",
      "[['C'], ['u'], ['r'], ['s'], ['o'], [' '], ['d'], ['e'], [' '], ['B'], ['a'], ['c'], ['k'], ['e'], ['n'], ['d'], [' '], ['P'], ['y'], ['t'], ['h'], ['o'], ['n']]\n"
     ]
    }
   ],
   "source": [
    "# usando espacios entre caracteres\n",
    "my_list =[['C'], ['u'], ['r'], ['s'], ['o'], [' '], ['d'], ['e'], [' '], ['B'], ['a'], ['c'], ['k'], ['e'], ['n'], ['d'], [' '], ['P'], ['y'], ['t'], ['h'], ['o'], ['n']]\n",
    "my_string = \"\".join([\"\".join(element) for element in my_list])\n",
    "print(my_string)\n",
    "print(my_list)"
   ]
  },
  {
   "cell_type": "markdown",
   "id": "bfd03457",
   "metadata": {},
   "source": [
    "### Creacion de listas con valores de entrada"
   ]
  },
  {
   "cell_type": "code",
   "execution_count": 37,
   "id": "f32aa82a",
   "metadata": {},
   "outputs": [
    {
     "name": "stdout",
     "output_type": "stream",
     "text": [
      "Ingresa los valores separados por espacio5,5,5,5,5\n",
      "5,5,5,5,5\n",
      "['5,5,5,5,5']\n"
     ]
    }
   ],
   "source": [
    "my_string = input(\"Ingresa los valores separados por espacio\")\n",
    "my_list = my_string.split()\n",
    "print(my_string)\n",
    "print(my_list)"
   ]
  },
  {
   "cell_type": "markdown",
   "id": "92a43ca6",
   "metadata": {},
   "source": [
    "### Metodos para manipulacion de listas"
   ]
  },
  {
   "cell_type": "markdown",
   "id": "f0f2ba94",
   "metadata": {},
   "source": [
    "#### Append\n",
    " agregar un elemento al final de una lista"
   ]
  },
  {
   "cell_type": "code",
   "execution_count": 1,
   "id": "7cb29820",
   "metadata": {},
   "outputs": [
    {
     "name": "stdout",
     "output_type": "stream",
     "text": [
      "['caballo', 'abeja', 'jirafa', 'ballena']\n",
      "4\n"
     ]
    }
   ],
   "source": [
    "my_list = [\"caballo\", \"abeja\",\"jirafa\",\"ballena\"]\n",
    "print(my_list)\n",
    "print(len(my_list))"
   ]
  },
  {
   "cell_type": "code",
   "execution_count": 2,
   "id": "1fa0bbeb",
   "metadata": {},
   "outputs": [
    {
     "name": "stdout",
     "output_type": "stream",
     "text": [
      "['caballo', 'abeja', 'jirafa', 'ballena', 'delfin']\n",
      "5\n"
     ]
    }
   ],
   "source": [
    "my_list.append(\"delfin\")\n",
    "print(my_list)\n",
    "print(len(my_list))"
   ]
  },
  {
   "cell_type": "code",
   "execution_count": 3,
   "id": "06717e47",
   "metadata": {},
   "outputs": [
    {
     "name": "stdout",
     "output_type": "stream",
     "text": [
      "['caballo', 'abeja', 'jirafa', 'ballena', 'delfin', 'gato']\n",
      "6\n"
     ]
    }
   ],
   "source": [
    "my_list.append(\"gato\")\n",
    "print(my_list)\n",
    "print(len(my_list))"
   ]
  },
  {
   "cell_type": "code",
   "execution_count": 5,
   "id": "9a4b08d8",
   "metadata": {},
   "outputs": [
    {
     "name": "stdout",
     "output_type": "stream",
     "text": [
      "[300, 500, 100, 200]\n",
      "4\n"
     ]
    }
   ],
   "source": [
    "my_list = [300,500,100,200]\n",
    "print(my_list)\n",
    "print(len(my_list))"
   ]
  },
  {
   "cell_type": "code",
   "execution_count": 6,
   "id": "2d1885d6",
   "metadata": {},
   "outputs": [
    {
     "name": "stdout",
     "output_type": "stream",
     "text": [
      "[300, 500, 100, 200, 111]\n",
      "5\n"
     ]
    }
   ],
   "source": [
    "my_list.append(111)\n",
    "print(my_list)\n",
    "print(len(my_list))"
   ]
  },
  {
   "cell_type": "code",
   "execution_count": 7,
   "id": "62968fb0",
   "metadata": {},
   "outputs": [
    {
     "name": "stdout",
     "output_type": "stream",
     "text": [
      "[300, 500, 100, 200, 111, 111]\n",
      "6\n"
     ]
    }
   ],
   "source": [
    "my_list.append(111)\n",
    "print(my_list)\n",
    "print(len(my_list))"
   ]
  },
  {
   "cell_type": "markdown",
   "id": "3633464f",
   "metadata": {},
   "source": [
    "### insert\n",
    "Agregar un valor a una lista en una posicion especifica\n",
    "insert(indice, valor)"
   ]
  },
  {
   "cell_type": "code",
   "execution_count": 8,
   "id": "5b077a6a",
   "metadata": {},
   "outputs": [
    {
     "name": "stdout",
     "output_type": "stream",
     "text": [
      "['caballo', 'abeja', 'jirafa', 'ballena']\n",
      "4\n"
     ]
    }
   ],
   "source": [
    "my_list = [\"caballo\", \"abeja\",\"jirafa\",\"ballena\"]\n",
    "print(my_list)\n",
    "print(len(my_list))"
   ]
  },
  {
   "cell_type": "code",
   "execution_count": 9,
   "id": "e6ecb382",
   "metadata": {},
   "outputs": [
    {
     "name": "stdout",
     "output_type": "stream",
     "text": [
      "['caballo', 'abeja', 'delfin', 'jirafa', 'ballena']\n",
      "5\n"
     ]
    }
   ],
   "source": [
    "my_list.insert(2,\"delfin\")\n",
    "print(my_list)\n",
    "print(len(my_list))"
   ]
  },
  {
   "cell_type": "code",
   "execution_count": 10,
   "id": "8c581403",
   "metadata": {
    "scrolled": false
   },
   "outputs": [
    {
     "name": "stdout",
     "output_type": "stream",
     "text": [
      "['caballo', 'gato', 'abeja', 'delfin', 'jirafa', 'ballena']\n",
      "6\n"
     ]
    }
   ],
   "source": [
    "my_list.insert(1,\"gato\")\n",
    "print(my_list)\n",
    "print(len(my_list))"
   ]
  },
  {
   "cell_type": "markdown",
   "id": "07fa6811",
   "metadata": {},
   "source": [
    "### Clear\n",
    "Eliminar todos los elementos de la lista"
   ]
  },
  {
   "cell_type": "code",
   "execution_count": 11,
   "id": "762fec85",
   "metadata": {},
   "outputs": [
    {
     "name": "stdout",
     "output_type": "stream",
     "text": [
      "['caballo', 'abeja', 'jirafa', 'ballena']\n",
      "4\n"
     ]
    }
   ],
   "source": [
    "my_list = [\"caballo\", \"abeja\",\"jirafa\",\"ballena\"]\n",
    "print(my_list)\n",
    "print(len(my_list))"
   ]
  },
  {
   "cell_type": "code",
   "execution_count": 12,
   "id": "0c25d4b1",
   "metadata": {},
   "outputs": [
    {
     "name": "stdout",
     "output_type": "stream",
     "text": [
      "[]\n",
      "0\n"
     ]
    }
   ],
   "source": [
    "my_list.clear()\n",
    "print(my_list)\n",
    "print(len(my_list))"
   ]
  },
  {
   "cell_type": "code",
   "execution_count": 13,
   "id": "e1a2ee76",
   "metadata": {},
   "outputs": [
    {
     "name": "stdout",
     "output_type": "stream",
     "text": [
      "[300, 500, 100, 200]\n",
      "4\n"
     ]
    }
   ],
   "source": [
    "my_list = [300,500,100,200]\n",
    "print(my_list)\n",
    "print(len(my_list))"
   ]
  },
  {
   "cell_type": "code",
   "execution_count": 14,
   "id": "e1a34241",
   "metadata": {},
   "outputs": [
    {
     "name": "stdout",
     "output_type": "stream",
     "text": [
      "[]\n",
      "0\n"
     ]
    }
   ],
   "source": [
    "my_list.clear()\n",
    "print(my_list)\n",
    "print(len(my_list))"
   ]
  },
  {
   "cell_type": "markdown",
   "id": "88b0f36a",
   "metadata": {},
   "source": [
    "### Copy\n",
    "copiar los elementos de una lista"
   ]
  },
  {
   "cell_type": "code",
   "execution_count": 15,
   "id": "c398a07f",
   "metadata": {},
   "outputs": [
    {
     "name": "stdout",
     "output_type": "stream",
     "text": [
      "['caballo', 'abeja', 'jirafa', 'ballena']\n",
      "4\n"
     ]
    }
   ],
   "source": [
    "my_list = [\"caballo\", \"abeja\",\"jirafa\",\"ballena\"]\n",
    "print(my_list)\n",
    "print(len(my_list))"
   ]
  },
  {
   "cell_type": "code",
   "execution_count": 16,
   "id": "1cf1d2ca",
   "metadata": {},
   "outputs": [
    {
     "name": "stdout",
     "output_type": "stream",
     "text": [
      "['caballo', 'abeja', 'jirafa', 'ballena']\n",
      "4\n"
     ]
    }
   ],
   "source": [
    "my_list_copy = my_list.copy()\n",
    "print(my_list_copy)\n",
    "print(len(my_list_copy))"
   ]
  },
  {
   "cell_type": "code",
   "execution_count": 17,
   "id": "9a621a9a",
   "metadata": {},
   "outputs": [
    {
     "name": "stdout",
     "output_type": "stream",
     "text": [
      "[]\n",
      "0\n",
      "['caballo', 'abeja', 'jirafa', 'ballena']\n",
      "4\n"
     ]
    }
   ],
   "source": [
    "my_list_copy.clear()\n",
    "print(my_list_copy)\n",
    "print(len(my_list_copy))\n",
    "print(my_list)\n",
    "print(len(my_list))"
   ]
  },
  {
   "cell_type": "code",
   "execution_count": 18,
   "id": "77714eac",
   "metadata": {},
   "outputs": [
    {
     "name": "stdout",
     "output_type": "stream",
     "text": [
      "[]\n",
      "0\n",
      "[]\n",
      "0\n"
     ]
    }
   ],
   "source": [
    "my_list_assigned = my_list\n",
    "my_list_assigned.clear()\n",
    "print(my_list_assigned)\n",
    "print(len(my_list_assigned))\n",
    "print(my_list)\n",
    "print(len(my_list))"
   ]
  },
  {
   "cell_type": "markdown",
   "id": "6d3bfaeb",
   "metadata": {},
   "source": [
    "### count\n",
    "Cuenta cuantas veces aparece un elemento en una lista"
   ]
  },
  {
   "cell_type": "code",
   "execution_count": 19,
   "id": "c3667fbf",
   "metadata": {},
   "outputs": [
    {
     "name": "stdout",
     "output_type": "stream",
     "text": [
      "[100, 300, 500, 100, 300]\n"
     ]
    }
   ],
   "source": [
    "my_list = [100,300,500,100,300]\n",
    "print(my_list)"
   ]
  },
  {
   "cell_type": "code",
   "execution_count": 20,
   "id": "848466fb",
   "metadata": {},
   "outputs": [
    {
     "name": "stdout",
     "output_type": "stream",
     "text": [
      "El numero 100 parece 2 veces en la lista\n"
     ]
    }
   ],
   "source": [
    "print(\"El numero 100 parece {} veces en la lista\".format(my_list.count(100)))"
   ]
  },
  {
   "cell_type": "code",
   "execution_count": 21,
   "id": "181431fe",
   "metadata": {},
   "outputs": [
    {
     "name": "stdout",
     "output_type": "stream",
     "text": [
      "El numero 300 parece 2 veces en la lista\n"
     ]
    }
   ],
   "source": [
    "print(\"El numero 300 parece {} veces en la lista\".format(my_list.count(300)))"
   ]
  },
  {
   "cell_type": "markdown",
   "id": "c670e6e8",
   "metadata": {},
   "source": [
    "## Index\n",
    "Obtiene el primer indice de una lista que hace match con el elemnte solicitado"
   ]
  },
  {
   "cell_type": "code",
   "execution_count": 23,
   "id": "41c1fc7e",
   "metadata": {},
   "outputs": [
    {
     "name": "stdout",
     "output_type": "stream",
     "text": [
      "El indice de la primera aparicion del numero 100 es 0\n"
     ]
    }
   ],
   "source": [
    "print(\"El indice de la primera aparicion del numero 100 es {}\".format(my_list.index(100)))"
   ]
  },
  {
   "cell_type": "code",
   "execution_count": 24,
   "id": "c945f3e5",
   "metadata": {},
   "outputs": [
    {
     "name": "stdout",
     "output_type": "stream",
     "text": [
      "El indice de la primera aparicion del numero 500 es 2\n"
     ]
    }
   ],
   "source": [
    "print(\"El indice de la primera aparicion del numero 500 es {}\".format(my_list.index(500)))"
   ]
  },
  {
   "cell_type": "markdown",
   "id": "2f4e1934",
   "metadata": {},
   "source": [
    "# Extend\n",
    "Combinar dos listas"
   ]
  },
  {
   "cell_type": "code",
   "execution_count": 1,
   "id": "e9705378",
   "metadata": {},
   "outputs": [
    {
     "name": "stdout",
     "output_type": "stream",
     "text": [
      "['caballo', 'abeja', 'jirafa', 'ballena']\n",
      "4\n"
     ]
    }
   ],
   "source": [
    "my_list = [\"caballo\", \"abeja\", \"jirafa\",\"ballena\"]\n",
    "print (my_list)\n",
    "print (len(my_list))"
   ]
  },
  {
   "cell_type": "code",
   "execution_count": 2,
   "id": "9e14afb3",
   "metadata": {},
   "outputs": [
    {
     "name": "stdout",
     "output_type": "stream",
     "text": [
      "['caballo', 'abeja', 'jirafa', 'ballena', 'delfin', 'gato']\n",
      "6\n"
     ]
    }
   ],
   "source": [
    "my_list_2 = [\"delfin\",\"gato\"]\n",
    "my_list.extend(my_list_2)\n",
    "print (my_list)\n",
    "print (len(my_list))"
   ]
  },
  {
   "cell_type": "code",
   "execution_count": 3,
   "id": "c33dc08a",
   "metadata": {},
   "outputs": [
    {
     "name": "stdout",
     "output_type": "stream",
     "text": [
      "[100, 300, 500, 100, 300]\n",
      "5\n"
     ]
    }
   ],
   "source": [
    "my_list = [100,300,500,100,300]\n",
    "print (my_list)\n",
    "print (len(my_list))"
   ]
  },
  {
   "cell_type": "code",
   "execution_count": 4,
   "id": "de1d0456",
   "metadata": {},
   "outputs": [
    {
     "name": "stdout",
     "output_type": "stream",
     "text": [
      "[100, 300, 500, 100, 300, 111, 333]\n",
      "7\n"
     ]
    }
   ],
   "source": [
    "my_list_2 = [111,333]\n",
    "my_list.extend(my_list_2)\n",
    "print (my_list)\n",
    "print (len(my_list))"
   ]
  },
  {
   "cell_type": "markdown",
   "id": "a027ed65",
   "metadata": {},
   "source": [
    "### pop\n",
    "Eliminar elementos de una lista basado en los indicies"
   ]
  },
  {
   "cell_type": "code",
   "execution_count": 5,
   "id": "c5f267bd",
   "metadata": {},
   "outputs": [
    {
     "name": "stdout",
     "output_type": "stream",
     "text": [
      "[100, 300, 500, 100, 200, 100, 300]\n",
      "7\n"
     ]
    }
   ],
   "source": [
    "my_list = [100,300,500,100,200,100,300]\n",
    "print (my_list)\n",
    "print (len(my_list))"
   ]
  },
  {
   "cell_type": "code",
   "execution_count": 6,
   "id": "31cee58c",
   "metadata": {},
   "outputs": [
    {
     "name": "stdout",
     "output_type": "stream",
     "text": [
      "[100, 300, 500, 100, 200, 100]\n",
      "6\n"
     ]
    }
   ],
   "source": [
    "#elimina indice -1 por default\n",
    "my_list.pop()\n",
    "print (my_list)\n",
    "print (len(my_list))"
   ]
  },
  {
   "cell_type": "code",
   "execution_count": 7,
   "id": "d1ba2649",
   "metadata": {},
   "outputs": [
    {
     "name": "stdout",
     "output_type": "stream",
     "text": [
      "[100, 300, 100, 200, 100]\n",
      "5\n"
     ]
    }
   ],
   "source": [
    "#elimina indice -1 por default\n",
    "my_list.pop(2)\n",
    "print (my_list)\n",
    "print (len(my_list))"
   ]
  },
  {
   "cell_type": "markdown",
   "id": "0a89ea64",
   "metadata": {},
   "source": [
    "### Remove\n",
    "Elimina la primera aparicion de un valor en una lista"
   ]
  },
  {
   "cell_type": "code",
   "execution_count": 12,
   "id": "62a9005c",
   "metadata": {},
   "outputs": [
    {
     "name": "stdout",
     "output_type": "stream",
     "text": [
      "[100, 300, 500, 100, 200, 100, 300]\n",
      "7\n"
     ]
    }
   ],
   "source": [
    "my_list = [100,300,500,100,200,100,300]\n",
    "print (my_list)\n",
    "print (len(my_list))"
   ]
  },
  {
   "cell_type": "code",
   "execution_count": 13,
   "id": "dce7871d",
   "metadata": {},
   "outputs": [
    {
     "name": "stdout",
     "output_type": "stream",
     "text": [
      "[300, 500, 100, 200, 100, 300]\n",
      "6\n"
     ]
    }
   ],
   "source": [
    "my_list.remove(100)\n",
    "print (my_list)\n",
    "print (len(my_list))"
   ]
  },
  {
   "cell_type": "code",
   "execution_count": 14,
   "id": "80f2c9b8",
   "metadata": {},
   "outputs": [
    {
     "name": "stdout",
     "output_type": "stream",
     "text": [
      "[300, 500, 200, 100, 300]\n",
      "5\n"
     ]
    }
   ],
   "source": [
    "my_list.remove(100)\n",
    "print (my_list)\n",
    "print (len(my_list))"
   ]
  },
  {
   "cell_type": "markdown",
   "id": "5211d492",
   "metadata": {},
   "source": [
    "### Reverse\n",
    "Invierte el "
   ]
  },
  {
   "cell_type": "code",
   "execution_count": null,
   "id": "c3c27de6",
   "metadata": {},
   "outputs": [],
   "source": []
  },
  {
   "cell_type": "code",
   "execution_count": null,
   "id": "108a5438",
   "metadata": {},
   "outputs": [],
   "source": []
  },
  {
   "cell_type": "code",
   "execution_count": null,
   "id": "7e45645d",
   "metadata": {},
   "outputs": [],
   "source": []
  },
  {
   "cell_type": "code",
   "execution_count": null,
   "id": "bb4c8ea8",
   "metadata": {},
   "outputs": [],
   "source": []
  },
  {
   "cell_type": "code",
   "execution_count": null,
   "id": "6e962e8b",
   "metadata": {},
   "outputs": [],
   "source": []
  },
  {
   "cell_type": "code",
   "execution_count": null,
   "id": "76a5bde1",
   "metadata": {},
   "outputs": [],
   "source": []
  },
  {
   "cell_type": "code",
   "execution_count": null,
   "id": "27035cb5",
   "metadata": {},
   "outputs": [],
   "source": []
  },
  {
   "cell_type": "code",
   "execution_count": null,
   "id": "f0955e71",
   "metadata": {},
   "outputs": [],
   "source": []
  },
  {
   "cell_type": "code",
   "execution_count": null,
   "id": "1c8df730",
   "metadata": {},
   "outputs": [],
   "source": []
  },
  {
   "cell_type": "code",
   "execution_count": null,
   "id": "0cc33f9a",
   "metadata": {},
   "outputs": [],
   "source": []
  },
  {
   "cell_type": "code",
   "execution_count": null,
   "id": "a8efbd00",
   "metadata": {},
   "outputs": [],
   "source": []
  },
  {
   "cell_type": "code",
   "execution_count": null,
   "id": "520fd664",
   "metadata": {},
   "outputs": [],
   "source": []
  }
 ],
 "metadata": {
  "kernelspec": {
   "display_name": "Python 3 (ipykernel)",
   "language": "python",
   "name": "python3"
  },
  "language_info": {
   "codemirror_mode": {
    "name": "ipython",
    "version": 3
   },
   "file_extension": ".py",
   "mimetype": "text/x-python",
   "name": "python",
   "nbconvert_exporter": "python",
   "pygments_lexer": "ipython3",
   "version": "3.10.5"
  }
 },
 "nbformat": 4,
 "nbformat_minor": 5
}
