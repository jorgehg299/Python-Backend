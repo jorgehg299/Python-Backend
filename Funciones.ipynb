{
 "cells": [
  {
   "cell_type": "markdown",
   "id": "29aa2d7e",
   "metadata": {},
   "source": [
    "### Funcion Add_iva\n",
    "* La siguente funcion lambda se encarga de calcular el precio final de un producto basado en el porcentaje de Impuesto sobre el Valor anadido"
   ]
  },
  {
   "cell_type": "code",
   "execution_count": 2,
   "id": "8c830365",
   "metadata": {},
   "outputs": [],
   "source": [
    "add_iva = lambda x:((x*(.16))+x)"
   ]
  },
  {
   "cell_type": "code",
   "execution_count": 6,
   "id": "1ebf630a",
   "metadata": {},
   "outputs": [],
   "source": [
    "product_cost=[10,50,140,200,700,16,18]\n",
    "result = map(add_iva, product_cost)"
   ]
  },
  {
   "cell_type": "code",
   "execution_count": 7,
   "id": "3ebe01b8",
   "metadata": {},
   "outputs": [
    {
     "data": {
      "text/plain": [
       "<map at 0x1ce5d3b6440>"
      ]
     },
     "execution_count": 7,
     "metadata": {},
     "output_type": "execute_result"
    }
   ],
   "source": [
    "result"
   ]
  },
  {
   "cell_type": "code",
   "execution_count": 8,
   "id": "fdd33724",
   "metadata": {},
   "outputs": [
    {
     "data": {
      "text/plain": [
       "[11.6, 58.0, 162.4, 232.0, 812.0, 18.56, 20.88]"
      ]
     },
     "execution_count": 8,
     "metadata": {},
     "output_type": "execute_result"
    }
   ],
   "source": [
    "list(result)"
   ]
  }
 ],
 "metadata": {
  "kernelspec": {
   "display_name": "Python 3 (ipykernel)",
   "language": "python",
   "name": "python3"
  },
  "language_info": {
   "codemirror_mode": {
    "name": "ipython",
    "version": 3
   },
   "file_extension": ".py",
   "mimetype": "text/x-python",
   "name": "python",
   "nbconvert_exporter": "python",
   "pygments_lexer": "ipython3",
   "version": "3.10.5"
  }
 },
 "nbformat": 4,
 "nbformat_minor": 5
}
