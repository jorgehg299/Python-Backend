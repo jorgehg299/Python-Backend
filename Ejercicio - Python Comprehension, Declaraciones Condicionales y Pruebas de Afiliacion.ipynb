{
 "cells": [
  {
   "cell_type": "code",
   "execution_count": 79,
   "id": "27a73473",
   "metadata": {},
   "outputs": [
    {
     "name": "stdout",
     "output_type": "stream",
     "text": [
      "Lista de Reproducción\n",
      "\n",
      "Ingresa la palabra que te gustaría\n",
      "Ejemplo: 'rock', y obtendrás un playlist de canciones o artistas que incluyan la palabra rock\n",
      "Rock\n",
      "[{'Title': 'Rock', 'Name': 'BlackPathos'}, {'Title': 'Rock', 'Name': 'Olamide'}, {'Title': 'Rock', 'Name': 'Plies'}, {'Title': 'Rock My Body', 'Name': 'R3HAB'}, {'Title': 'Rock', 'Name': 'Ernest Vogue'}, {'Title': 'Rock (feat. 2rare & DSturdy)', 'Name': 'Asian Doll'}, {'Title': 'Rock Your Body', 'Name': 'Justin Timberlake'}, {'Title': 'Rocky', 'Name': 'Still Woozy'}, {'Title': 'I Am Rock', 'Name': 'Rock'}, {'Title': 'All Summer Long', 'Name': 'Kid Rock'}, {'Title': 'Rocks', 'Name': 'Jerome Sandero'}, {'Title': 'Rock It', 'Name': 'Ofenbach'}, {'Title': 'Rock Amadour', 'Name': 'Gerard Blanchard'}, {'Title': 'Rocks', 'Name': 'Bones'}, {'Title': 'Rock (2002 Remaster)', 'Name': 'Burning Spear'}, {'Title': '_________ Rock ___ (2/3)', 'Name': \"C'typeencostume\"}, {'Title': 'Rock the Casbah (Remastered)', 'Name': 'The Clash'}, {'Title': 'The Big Bang', 'Name': 'Rock Mafia'}, {'Title': 'Rock With You', 'Name': 'Michael Jackson'}, {'Title': 'Rock Around The Clock', 'Name': 'Bill Haley & His Comets'}]\n"
     ]
    }
   ],
   "source": [
    "import requests\n",
    "print(\"Lista de Reproducción\\n\")\n",
    "# Referencia: https://www.deezer.com/en/channels/explore\n",
    "print(\"Ingresa la palabra que te gustaría\")\n",
    "print(\"Ejemplo: 'rock', y obtendrás un playlist de canciones o artistas que incluyan la palabra rock\")\n",
    "word_to_search = input() \n",
    "url = \"https://deezerdevs-deezer.p.rapidapi.com/search\" \n",
    "querystring = {\"q\":word_to_search} \n",
    "headers = {\n",
    "    \"X-RapidAPI-Key\": \"3ed98f551fmshe4e6260228c4eadp13db17jsn8c893e1194da\",\n",
    "    \"X-RapidAPI-Host\": \"deezerdevs-deezer.p.rapidapi.com\" }\n",
    "response = requests.request(\"GET\", url, headers=headers, params=querystring).json() \n",
    "my_list=[]\n",
    "for element in response['data']:  \n",
    "    if word_to_search in element['title'] or word_to_search in element['artist']['name']:\n",
    "        my_list.append({\"Title\":element['title'], \"Name\":element['artist']['name']})\n",
    "print(my_list)\n"
   ]
  },
  {
   "cell_type": "code",
   "execution_count": null,
   "id": "3ece1094",
   "metadata": {},
   "outputs": [],
   "source": []
  },
  {
   "cell_type": "code",
   "execution_count": null,
   "id": "3173e0e1",
   "metadata": {},
   "outputs": [],
   "source": []
  }
 ],
 "metadata": {
  "kernelspec": {
   "display_name": "Python 3 (ipykernel)",
   "language": "python",
   "name": "python3"
  },
  "language_info": {
   "codemirror_mode": {
    "name": "ipython",
    "version": 3
   },
   "file_extension": ".py",
   "mimetype": "text/x-python",
   "name": "python",
   "nbconvert_exporter": "python",
   "pygments_lexer": "ipython3",
   "version": "3.10.5"
  }
 },
 "nbformat": 4,
 "nbformat_minor": 5
}
