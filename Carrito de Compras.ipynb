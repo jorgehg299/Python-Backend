{
 "cells": [
  {
   "cell_type": "markdown",
   "id": "73de3067",
   "metadata": {},
   "source": [
    "### Carrito de Compras"
   ]
  },
  {
   "cell_type": "code",
   "execution_count": 3,
   "id": "e21e8459",
   "metadata": {},
   "outputs": [
    {
     "name": "stdout",
     "output_type": "stream",
     "text": [
      "Carrito de compras\n",
      "\n",
      "\n",
      "Productos Disponibles:\n",
      "1.- Pan \n",
      "2.- Jamón \n",
      "3.- Crema \n",
      "4.- Mayonesa \n",
      "5.- Lechuga\n",
      "6.- Catsup\n",
      "7.- Salchicha\n",
      "8.- Queso\n",
      "Ingresa una lista con los productos en este formato:[[Cantidad,Producto]]\n",
      "Por ejemplo: [[1,1], [3,2]] significa 1 Pan y 3 Jamón\n",
      "[[3,8],[4,7],[5,6],[4,5],[5,1],[9,8],[20,7],[1,1]]\n",
      "\n",
      "\n",
      "Tu carrito es:\n",
      "3 Queso\n",
      "4 Salchicha\n",
      "5 Catsup\n",
      "4 Lechuga\n",
      "5 Pan\n",
      "9 Queso\n",
      "20 Salchicha\n",
      "1 Pan\n"
     ]
    }
   ],
   "source": [
    "print(\"Carrito de compras\\n\")\n",
    "print(\"\"\"\n",
    "Productos Disponibles:\n",
    "1.- Pan \n",
    "2.- Jamón \n",
    "3.- Crema \n",
    "4.- Mayonesa \n",
    "5.- Lechuga\n",
    "6.- Catsup\n",
    "7.- Salchicha\n",
    "8.- Queso\"\"\")\n",
    "\n",
    "print(\"Ingresa una lista con los productos en este formato:[[Cantidad,Producto]]\") \n",
    "print(\"Por ejemplo: [[1,1], [3,2]] significa 1 Pan y 3 Jamón\" )\n",
    "\n",
    "my_shopping_cart = eval(input()) \n",
    "print(\"\\n\\nTu carrito es:\") \n",
    "if type(my_shopping_cart) == list:\n",
    "    if type(my_shopping_cart[0]) == list:        \n",
    "        for element in my_shopping_cart:\n",
    "            product = \"\"\n",
    "            if element[1] == 1:\n",
    "                product = \"Pan\"\n",
    "            if element[1] == 2:\n",
    "                product = \"Jamón\"            \n",
    "            if element[1] == 3:\n",
    "                product = \"Crema\"\n",
    "            if element[1] == 4:\n",
    "                product = \"Mayonesa\"\n",
    "            if element[1] == 5:\n",
    "                product = \"Lechuga\"\n",
    "            if element[1] == 6:\n",
    "                product = \"Catsup\"\n",
    "            if element[1] == 7:\n",
    "                product = \"Salchicha\"\n",
    "            if element[1] == 8:\n",
    "                product = \"Queso\"\n",
    "            print(\"{} {}\".format(element[0], product))\n",
    "    else:        \n",
    "        print(\"Formato incorrecto, debes ingresar una lista de listas\")\n",
    "else:    \n",
    "    print(\"Formato incorrecto, debes ingresar una lista de listas\")"
   ]
  }
 ],
 "metadata": {
  "kernelspec": {
   "display_name": "Python 3 (ipykernel)",
   "language": "python",
   "name": "python3"
  },
  "language_info": {
   "codemirror_mode": {
    "name": "ipython",
    "version": 3
   },
   "file_extension": ".py",
   "mimetype": "text/x-python",
   "name": "python",
   "nbconvert_exporter": "python",
   "pygments_lexer": "ipython3",
   "version": "3.10.5"
  }
 },
 "nbformat": 4,
 "nbformat_minor": 5
}
