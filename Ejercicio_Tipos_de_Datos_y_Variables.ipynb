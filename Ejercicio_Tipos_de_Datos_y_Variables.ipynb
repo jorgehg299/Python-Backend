{
 "cells": [
  {
   "cell_type": "markdown",
   "id": "c269d437",
   "metadata": {},
   "source": [
    "### Escoge tipo de operacion"
   ]
  },
  {
   "cell_type": "code",
   "execution_count": 4,
   "id": "d77903be",
   "metadata": {},
   "outputs": [
    {
     "name": "stdout",
     "output_type": "stream",
     "text": [
      "Por favor escoge numero con el tipo de operacion\n",
      "1) +\n",
      "2) -\n",
      "3) *\n",
      "4) /\n",
      "5) **\n",
      "Enter number: 4\n",
      "/\n"
     ]
    }
   ],
   "source": [
    "def let_user_pick(options):\n",
    "    print(\"Por favor escoge numero con el tipo de operacion\")\n",
    "    \n",
    "    for idx, element in enumerate(options):\n",
    "        print(\"{}) {}\".format(idx + 1, element))\n",
    "        \n",
    "    i = input(\"Enter number: \")\n",
    "    try: \n",
    "        if 0 < int(i) <= len(options):\n",
    "            return int(i) - 1\n",
    "    except:\n",
    "        pass\n",
    "    return None\n",
    "options = [\"+\",\"-\",\"*\",\"/\",\"**\"]\n",
    "res = let_user_pick(options)\n",
    "p = options[res]\n",
    "print(p)"
   ]
  },
  {
   "cell_type": "code",
   "execution_count": 5,
   "id": "53f363d4",
   "metadata": {},
   "outputs": [
    {
     "name": "stdout",
     "output_type": "stream",
     "text": [
      "Escoge el primer numero para la operacion: 4\n",
      "4\n",
      "Escoge el segundo numero para la operacion: 2\n",
      "2\n"
     ]
    }
   ],
   "source": [
    "num1 = int(input(\"Escoge el primer numero para la operacion: \"))\n",
    "print(num1)\n",
    "num2 = int(input(\"Escoge el segundo numero para la operacion: \"))\n",
    "print(num2)"
   ]
  },
  {
   "cell_type": "code",
   "execution_count": 6,
   "id": "e1379bfb",
   "metadata": {},
   "outputs": [
    {
     "data": {
      "text/plain": [
       "2.0"
      ]
     },
     "execution_count": 6,
     "metadata": {},
     "output_type": "execute_result"
    }
   ],
   "source": [
    "OPERATORS = {'+': 'add', '-': 'sub', '*': 'mul', '/':'truediv','**':'pow'}\n",
    "\n",
    "def apply_operator(num1, p, num2):\n",
    "\n",
    "    method = '__%s__' % OPERATORS[p]\n",
    "    return getattr(num1, method)(num2)\n",
    "\n",
    "apply_operator(num1,p,num2)"
   ]
  }
 ],
 "metadata": {
  "kernelspec": {
   "display_name": "Python 3 (ipykernel)",
   "language": "python",
   "name": "python3"
  },
  "language_info": {
   "codemirror_mode": {
    "name": "ipython",
    "version": 3
   },
   "file_extension": ".py",
   "mimetype": "text/x-python",
   "name": "python",
   "nbconvert_exporter": "python",
   "pygments_lexer": "ipython3",
   "version": "3.10.5"
  }
 },
 "nbformat": 4,
 "nbformat_minor": 5
}
