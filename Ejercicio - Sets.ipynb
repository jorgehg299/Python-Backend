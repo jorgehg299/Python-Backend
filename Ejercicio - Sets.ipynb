{
 "cells": [
  {
   "cell_type": "code",
   "execution_count": 2,
   "id": "f85e50c7",
   "metadata": {},
   "outputs": [
    {
     "name": "stdout",
     "output_type": "stream",
     "text": [
      "{'C2C2', '55C5', 'C3CC', 'A111', 'D1DD', 'D5D5', 'BB77', 'B222', '11A1', 'A222', 'BBB3', 'DD4D', '333C', '555C', '22D2', 'C666', 'AA1A', '1111', 'C8CC', 'C9C9', 'CCC7', 'B9BB', 'D00D', 'D9D9', 'DDD0', 'C11C', 'D8DD', '333D', '00C0', 'AAA7', '000B', 'C6CC', 'BB5B', 'BB3B', 'DD88', 'D0D0', 'D333', '888B', '222A', 'BBB9', 'BBB7', 'C444', 'DD9D', '88D8', 'A777', 'D3DD', '666A', '5B55', 'D1D1', 'A5AA', '2222', '777B', '77B7', 'C7CC', '44D4', 'DD5D', 'CCC2', 'A11A', 'D555', 'B22B', 'BBB4', 'AAA8', 'D8D8', 'C5CC', 'CC3C', 'D88D', 'DDD1', '9999', 'A6A6', '666B', '777A', 'C44C', '555D', 'AA0A', 'C7C7', '33B3', 'D11D', 'DDD5', 'C0CC', 'DD22', '4D44', 'B6B6', '66A6', 'CC11', 'AA22', 'A7A7', 'CCC5', 'DD2D', 'D44D', '7B77', 'BBBB', 'C1CC', '4C44', 'AAA5', '4444', 'A77A', 'DD11', 'B99B', 'B1B1', '22B2', '000C', '5555', '7777', 'C33C', 'AA6A', 'DD7D', 'C4C4', 'CC55', 'AA8A', 'D888', 'BB2B', 'C66C', '8D88', '5A55', '4A44', 'DD99', '0D00', 'C9CC', 'C6C6', 'B3B3', 'AA33', '44B4', 'D2D2', '888A', 'CCC1', '4B44', 'B1BB', 'A3A3', 'DDD4', 'BB11', 'AA9A', 'C111', 'C333', 'C222', 'D2DD', 'CC0C', 'DD1D', '999A', 'BB44', '2D22', 'A8A8', 'BB0B', 'BB33', '444C', 'AAA3', '1A11', '999D', 'B8BB', '3C33', 'C22C', 'D4DD', 'CC6C', 'B44B', 'D77D', 'CC8C', 'C0C0', 'B5BB', 'AAAA', 'AAA6', 'B999', '3B33', 'DDD6', '222B', 'B8B8', 'AAA9', 'A33A', 'D666', '88C8', 'D33D', 'B77B', 'AA88', 'A0A0', 'B3BB', 'CC33', '444B', '6B66', '9C99', 'B7BB', '9D99', '7A77', 'A00A', 'B2BB', 'A88A', '2A22', 'AA66', 'A000', 'B55B', 'A888', 'B0BB', 'BB00', 'CCC6', 'C99C', 'C2CC', 'B6BB', 'D99D', 'D55D', '888D', '8B88', 'CCC3', '5D55', 'DD66', 'A9AA', 'B555', 'D7DD', '111A', 'A7AA', '33A3', 'B88B', 'BB55', 'CC88', 'C3C3', 'B777', 'CC66', 'DD3D', 'AA99', 'A44A', 'CC99', 'BB9B', 'AA00', 'D66D', 'AA77', 'CC1C', '66D6', 'CC22', 'B888', '99C9', 'C888', 'DDD9', '33D3', '11C1', '111B', 'AA11', 'CCC0', 'A2A2', 'D7D7', 'AAA1', 'AA44', 'BB88', 'DDD7', '8C88', 'A6AA', '00B0', 'DD8D', 'A3AA', 'AA55', '44C4', 'BB6B', '33C3', '2B22', 'D3D3', 'A5A5', 'D222', '44A4', '00A0', 'B333', 'A99A', '2C22', 'D22D', 'AA2A', '555A', 'CC77', '777C', 'DD77', 'A4AA', 'B9B9', '6D66', 'DDD3', 'C88C', '22A2', 'BB22', 'DD55', 'BBB2', 'B66B', 'D9DD', '22C2', 'A8AA', 'A666', 'DD44', 'C1C1', '0C00', '9B99', '55D5', 'BB8B', 'A1AA', '3D33', '111C', '8A88', 'A22A', '0A00', 'AAA0', 'A1A1', '333B', 'AA4A', 'C8C8', '1B11', '5C55', 'A444', 'D6DD', 'BBB6', 'D4D4', '99B9', 'CC00', 'A555', '9A99', '333A', 'D000', 'B4B4', 'DDD8', '55A5', '99D9', 'A0AA', 'B4BB', 'B666', 'BB1B', '111D', '77A7', '77D7', 'C999', '99A9', '000A', 'CC7C', 'BBB5', 'C5C5', '77C7', 'A55A', 'C000', 'CC9C', '444A', '3A33', '7D77', 'D111', 'CCC4', 'B444', '555B', 'C55C', 'CC2C', 'BB7B', 'B111', '999B', 'B11B', 'CC44', '3333', 'C555', '444D', 'AAA4', '888C', 'AA3A', 'D5DD', '66C6', '0B00', 'D0DD', 'CC4C', 'BBB8', 'AAA2', 'A66A', '00D0', 'BBB0', '55B5', '11B1', 'A999', '7C77', 'AA7A', 'AA5A', 'C777', 'D777', 'DD0D', 'C77C', '88A8', 'BBB1', '66B6', '777D', '666D', 'A9A9', '999C', '1C11', 'DD00', '222D', 'B0B0', 'DDDD', 'B00B', 'BB99', '6A66', 'CCCC', '0000', '88B8', 'DDD2', 'CCC8', 'BB4B', '222C', 'C00C', '6666', 'B2B2', 'B5B5', '1D11', 'A333', 'D444', 'BB66', 'A2AA', 'B000', '8888', 'A4A4', 'CCC9', 'D6D6', 'C4CC', 'CC5C', '6C66', 'DD6D', 'D999', '666C', 'DD33', 'B7B7', 'B33B', '11D1', '000D'}\n"
     ]
    }
   ],
   "source": [
    "numbers = ['0', '1', '2', '3', '4', '5', '6', '7', '8', '9']\n",
    "letters = ['A', 'B', 'C','D'] \n",
    "unique_combinations = set() \n",
    "for number in numbers:\n",
    "    for letter in letters:\n",
    "        unique_combinations.add(\"{}{}{}{}\".format(number,number,number,number))        \n",
    "        unique_combinations.add(\"{}{}{}{}\".format(number,number,number,letter))        \n",
    "        unique_combinations.add(\"{}{}{}{}\".format(number,number,letter,number))        \n",
    "        unique_combinations.add(\"{}{}{}{}\".format(number,letter,number,number))        \n",
    "        unique_combinations.add(\"{}{}{}{}\".format(letter,number,number,number))        \n",
    "        unique_combinations.add(\"{}{}{}{}\".format(letter,number,number,letter))        \n",
    "        unique_combinations.add(\"{}{}{}{}\".format(letter,number,letter,number))        \n",
    "        unique_combinations.add(\"{}{}{}{}\".format(letter,number,letter,letter))\n",
    "        unique_combinations.add(\"{}{}{}{}\".format(letter,letter,number,number))        \n",
    "        unique_combinations.add(\"{}{}{}{}\".format(letter,letter,number,letter))        \n",
    "        unique_combinations.add(\"{}{}{}{}\".format(letter,letter,letter,number))        \n",
    "        unique_combinations.add(\"{}{}{}{}\".format(letter,letter,letter,letter))\n",
    "print(unique_combinations)\n",
    "        "
   ]
  },
  {
   "cell_type": "code",
   "execution_count": null,
   "id": "dfc339ec",
   "metadata": {},
   "outputs": [],
   "source": []
  }
 ],
 "metadata": {
  "kernelspec": {
   "display_name": "Python 3 (ipykernel)",
   "language": "python",
   "name": "python3"
  },
  "language_info": {
   "codemirror_mode": {
    "name": "ipython",
    "version": 3
   },
   "file_extension": ".py",
   "mimetype": "text/x-python",
   "name": "python",
   "nbconvert_exporter": "python",
   "pygments_lexer": "ipython3",
   "version": "3.10.5"
  }
 },
 "nbformat": 4,
 "nbformat_minor": 5
}
