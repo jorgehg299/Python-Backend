{
 "cells": [
  {
   "cell_type": "code",
   "execution_count": 74,
   "id": "b1beede4",
   "metadata": {},
   "outputs": [
    {
     "name": "stdout",
     "output_type": "stream",
     "text": [
      "Por favor escoge numero con el tipo de operacion\n",
      "1) +\n",
      "2) -\n",
      "3) *\n",
      "4) /\n",
      "5) **\n",
      "Enter number: 1\n",
      "+\n"
     ]
    }
   ],
   "source": [
    "def let_user_pick(options):\n",
    "    print(\"Por favor escoge numero con el tipo de operacion\")\n",
    "    \n",
    "    for idx, element in enumerate(options):\n",
    "        print(\"{}) {}\".format(idx + 1, element))\n",
    "        \n",
    "    i = input(\"Enter number: \")\n",
    "    try: \n",
    "        if 0 < int(i) <= len(options):\n",
    "            return int(i) - 1\n",
    "    except:\n",
    "        pass\n",
    "    return None\n",
    "options = [\"+\",\"-\",\"*\",\"/\",\"**\"]\n",
    "res = let_user_pick(options)\n",
    "p = options[res]\n",
    "print(\"Haz escogido: \",p)\n",
    "OPERATORS = {'+': 'add', '-': 'sub', '*': 'mul', '/':'truediv','**':'pow'}\n",
    "\n",
    "def apply_operator(num1, p, num2):\n",
    "\n",
    "    method = '__%s__' % OPERATORS[p]\n",
    "    return getattr(num1, method)(num2)"
   ]
  },
  {
   "cell_type": "code",
   "execution_count": 76,
   "id": "46713192",
   "metadata": {},
   "outputs": [
    {
     "name": "stdout",
     "output_type": "stream",
     "text": [
      "inserta numero para la lista: 5\n",
      "inserta numero para la lista: 5\n",
      "inserta numero para la lista: 5\n",
      "inserta numero para la lista: 5\n",
      "inserta numero para la lista: 5\n",
      "['5', '5', '5', '5', '5']\n"
     ]
    }
   ],
   "source": [
    "lst = []\n",
    "isnumber = False\n",
    "for i in range(5):\n",
    "    while isnumber == False:\n",
    "        num=(input(\"inserta numero para la lista: \"))\n",
    "        isnumber = num.isnumeric()\n",
    "        if isnumber == False:\n",
    "            print(\"Entrada invalida: Introduce un dato numerico\")\n",
    "    lst.append(num)\n",
    "    isnumber= False\n",
    "print(lst)"
   ]
  },
  {
   "cell_type": "code",
   "execution_count": null,
   "id": "c508b77a",
   "metadata": {},
   "outputs": [],
   "source": [
    "isnumber = False\n",
    "setlst = set()\n",
    "while len(setlst) < 5:\n",
    "    while isnumber == False: \n",
    "        num = input(\"insert number for set: \")\n",
    "        isnumber = num.isnumeric()\n",
    "        if isnumber == False:\n",
    "            print(\"Entrada invalida:introduce un dato numericl\")\n",
    "    if num not in setlst:\n",
    "        setlst.add(num)\n",
    "        isnumber = False\n",
    "    else: \n",
    "        print(\"Entrada invalida: numero ya esta en la lista, porfavor introduce un numero que no lo este: \")\n",
    "        print(setlst)\n",
    "        isnumber = False      \n",
    "print(setlst)"
   ]
  },
  {
   "cell_type": "code",
   "execution_count": 85,
   "id": "a9159791",
   "metadata": {},
   "outputs": [
    {
     "name": "stdout",
     "output_type": "stream",
     "text": [
      "introduce un numero para tu diccionario: 5\n",
      "introduce un numero para tu diccionario: 5\n",
      "introduce un numero para tu diccionario: 5\n",
      "introduce un numero para tu diccionario: 5\n",
      "introduce un numero para tu diccionario: 5\n",
      "{1: '5', 2: '5', 3: '5', 4: '5', 5: '5'}\n"
     ]
    }
   ],
   "source": [
    "isnumber = False\n",
    "my_dictionary ={1:'',2:'',3:'',4:'', 5:''}\n",
    "for i in range(5):\n",
    "    while isnumber == False:\n",
    "        num = input(\"introduce un numero para tu diccionario: \")\n",
    "        isnumber = num.isnumeric()\n",
    "        if isnumber == False:\n",
    "            print(\"Entrada invalida: introduce un dato numerico\")     \n",
    "    my_dictionary [i+1] = num\n",
    "    isnumber = False\n",
    "print(my_dictionary)"
   ]
  },
  {
   "cell_type": "code",
   "execution_count": 90,
   "id": "df6d4067",
   "metadata": {},
   "outputs": [
    {
     "name": "stdout",
     "output_type": "stream",
     "text": [
      "25\n",
      "24\n",
      "25\n"
     ]
    }
   ],
   "source": [
    "rlista = 0\n",
    "rset = 0 \n",
    "rdictionary = 0\n",
    "for i in range(5):\n",
    "    rlista = apply_operator(rlista,p,int(lst[i]))\n",
    "    rset = apply_operator(rset,p,int(list(setlst)[i]))\n",
    "    rdictionary = apply_operator(rdictionary,p,int(my_dictionary[i+1]))\n",
    "print(rlista)\n",
    "print(rset)\n",
    "print(rdictionary)"
   ]
  },
  {
   "cell_type": "code",
   "execution_count": 93,
   "id": "8b05e233",
   "metadata": {},
   "outputs": [
    {
     "name": "stdout",
     "output_type": "stream",
     "text": [
      "la operacion seleccionada fue:  +\n",
      "mi lista:  ['5', '5', '5', '5', '5']\n",
      "mi set:  {'8', '9', '1', '4', '2'}\n",
      "mi diccionario {1: '5', 2: '5', 3: '5', 4: '5', 5: '5'}\n",
      "resultado de la lista con la operacion:  25\n",
      "resultado del set con la operacion:  24\n",
      "resultado del diccionario con la operacion:  25\n"
     ]
    }
   ],
   "source": [
    "print(\"la operacion seleccionada fue: \",p)\n",
    "print(\"mi lista: \",lst)\n",
    "print(\"mi set: \",setlst)\n",
    "print(\"mi diccionario\", my_dictionary)\n",
    "print(\"resultado de la lista con la operacion: \", rlista)\n",
    "print(\"resultado del set con la operacion: \", rset)\n",
    "print(\"resultado del diccionario con la operacion: \", rdictionary)"
   ]
  },
  {
   "cell_type": "code",
   "execution_count": null,
   "id": "13c66237",
   "metadata": {},
   "outputs": [],
   "source": []
  },
  {
   "cell_type": "code",
   "execution_count": null,
   "id": "1b064523",
   "metadata": {},
   "outputs": [],
   "source": []
  },
  {
   "cell_type": "code",
   "execution_count": null,
   "id": "064c6c08",
   "metadata": {},
   "outputs": [],
   "source": []
  }
 ],
 "metadata": {
  "kernelspec": {
   "display_name": "Python 3 (ipykernel)",
   "language": "python",
   "name": "python3"
  },
  "language_info": {
   "codemirror_mode": {
    "name": "ipython",
    "version": 3
   },
   "file_extension": ".py",
   "mimetype": "text/x-python",
   "name": "python",
   "nbconvert_exporter": "python",
   "pygments_lexer": "ipython3",
   "version": "3.10.5"
  }
 },
 "nbformat": 4,
 "nbformat_minor": 5
}
